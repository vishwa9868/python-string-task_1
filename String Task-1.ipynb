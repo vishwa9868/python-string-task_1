{
 "cells": [
  {
   "cell_type": "markdown",
   "id": "471095f5",
   "metadata": {},
   "source": [
    "# String Task-1"
   ]
  },
  {
   "cell_type": "code",
   "execution_count": 15,
   "id": "fcd89576",
   "metadata": {},
   "outputs": [],
   "source": [
    "vp = \"this is my first python programing class and im learNINg python string and its function \""
   ]
  },
  {
   "cell_type": "markdown",
   "id": "844da10b",
   "metadata": {},
   "source": [
    "1:-Try to extract data from index one to index 300 with a jump of 3"
   ]
  },
  {
   "cell_type": "code",
   "execution_count": 22,
   "id": "b4727b0b",
   "metadata": {},
   "outputs": [
    {
     "data": {
      "text/plain": [
       "'h   r tnrri a dmeNgyosi dtfco'"
      ]
     },
     "execution_count": 22,
     "metadata": {},
     "output_type": "execute_result"
    }
   ],
   "source": [
    "vp[1:300:3]"
   ]
  },
  {
   "cell_type": "code",
   "execution_count": 23,
   "id": "27a87640",
   "metadata": {},
   "outputs": [
    {
     "data": {
      "text/plain": [
       "' noitcnuf sti dna gnirts nohtyp gNINrael mi dna ssalc gnimargorp nohtyp tsrif ym si siht'"
      ]
     },
     "execution_count": 23,
     "metadata": {},
     "output_type": "execute_result"
    }
   ],
   "source": [
    "vp[::-1]"
   ]
  },
  {
   "cell_type": "markdown",
   "id": "6170da83",
   "metadata": {},
   "source": [
    "2:-Try to reverse a string without using reverse function"
   ]
  },
  {
   "cell_type": "code",
   "execution_count": 24,
   "id": "1c387594",
   "metadata": {},
   "outputs": [
    {
     "data": {
      "text/plain": [
       "' noitcnuf sti dna gnirts nohtyp gNINrael mi dna ssalc gnimargorp nohtyp tsrif ym si siht'"
      ]
     },
     "execution_count": 24,
     "metadata": {},
     "output_type": "execute_result"
    }
   ],
   "source": [
    "\"\".join(reversed(vp))"
   ]
  },
  {
   "cell_type": "markdown",
   "id": "7f7a0353",
   "metadata": {},
   "source": [
    "3:-Try to split a string after conversion of entire string in uppercase"
   ]
  },
  {
   "cell_type": "code",
   "execution_count": 25,
   "id": "546c8294",
   "metadata": {},
   "outputs": [
    {
     "data": {
      "text/plain": [
       "['THIS',\n",
       " 'IS',\n",
       " 'MY',\n",
       " 'FIRST',\n",
       " 'PYTHON',\n",
       " 'PROGRAMING',\n",
       " 'CLASS',\n",
       " 'AND',\n",
       " 'IM',\n",
       " 'LEARNING',\n",
       " 'PYTHON',\n",
       " 'STRING',\n",
       " 'AND',\n",
       " 'ITS',\n",
       " 'FUNCTION']"
      ]
     },
     "execution_count": 25,
     "metadata": {},
     "output_type": "execute_result"
    }
   ],
   "source": [
    "\n",
    "vp.upper().split()"
   ]
  },
  {
   "cell_type": "markdown",
   "id": "85a08f55",
   "metadata": {},
   "source": [
    "4:-Try to convert the whole string into lower case"
   ]
  },
  {
   "cell_type": "code",
   "execution_count": 26,
   "id": "66053b43",
   "metadata": {},
   "outputs": [
    {
     "data": {
      "text/plain": [
       "'this is my first python programing class and im learning python string and its function '"
      ]
     },
     "execution_count": 26,
     "metadata": {},
     "output_type": "execute_result"
    }
   ],
   "source": [
    "vp.lower()"
   ]
  },
  {
   "cell_type": "markdown",
   "id": "4cb2503e",
   "metadata": {},
   "source": [
    "5:-Try to capitalize the whole string"
   ]
  },
  {
   "cell_type": "code",
   "execution_count": 27,
   "id": "143b13bc",
   "metadata": {},
   "outputs": [
    {
     "data": {
      "text/plain": [
       "'This is my first python programing class and im learning python string and its function '"
      ]
     },
     "execution_count": 27,
     "metadata": {},
     "output_type": "execute_result"
    }
   ],
   "source": [
    "vp.capitalize()"
   ]
  },
  {
   "cell_type": "markdown",
   "id": "0d0b8dfa",
   "metadata": {},
   "source": [
    "6:-write a diffrence between isalnum and isalpha"
   ]
  },
  {
   "cell_type": "markdown",
   "id": "a012f7b5",
   "metadata": {},
   "source": [
    "ans:- \"isalnum\":-A string is alpha-numeric if all characters in the string are alpha-numeric and\n",
    "there is at least one character in the string.\n",
    "       \"isalpha\":-A string is alphabetic if all characters in the string are alphabetic and there\n",
    "is at least one character in the string."
   ]
  },
  {
   "cell_type": "markdown",
   "id": "23aa5379",
   "metadata": {},
   "source": [
    "7:-Try to give an example of expand tab"
   ]
  },
  {
   "cell_type": "code",
   "execution_count": 46,
   "id": "abb8fc10",
   "metadata": {},
   "outputs": [],
   "source": [
    "v1 = \"vishwanath\\tpatil\\tmnl\""
   ]
  },
  {
   "cell_type": "code",
   "execution_count": 47,
   "id": "60a781dc",
   "metadata": {},
   "outputs": [
    {
     "data": {
      "text/plain": [
       "'vishwanath      patil   mnl'"
      ]
     },
     "execution_count": 47,
     "metadata": {},
     "output_type": "execute_result"
    }
   ],
   "source": [
    "v1.expandtabs()"
   ]
  },
  {
   "cell_type": "markdown",
   "id": "b59f222a",
   "metadata": {},
   "source": [
    "8:-Give an example of strip, lstrip and rstrip"
   ]
  },
  {
   "cell_type": "code",
   "execution_count": 48,
   "id": "d507e26a",
   "metadata": {},
   "outputs": [],
   "source": [
    "v2= \"    vishwanath_patil     \""
   ]
  },
  {
   "cell_type": "code",
   "execution_count": 49,
   "id": "4d581b08",
   "metadata": {},
   "outputs": [
    {
     "data": {
      "text/plain": [
       "'vishwanath_patil'"
      ]
     },
     "execution_count": 49,
     "metadata": {},
     "output_type": "execute_result"
    }
   ],
   "source": [
    "v2.strip()"
   ]
  },
  {
   "cell_type": "code",
   "execution_count": 50,
   "id": "2668dc78",
   "metadata": {},
   "outputs": [
    {
     "data": {
      "text/plain": [
       "'vishwanath_patil     '"
      ]
     },
     "execution_count": 50,
     "metadata": {},
     "output_type": "execute_result"
    }
   ],
   "source": [
    "v2.lstrip()"
   ]
  },
  {
   "cell_type": "code",
   "execution_count": 51,
   "id": "f2414783",
   "metadata": {},
   "outputs": [
    {
     "data": {
      "text/plain": [
       "'    vishwanath_patil'"
      ]
     },
     "execution_count": 51,
     "metadata": {},
     "output_type": "execute_result"
    }
   ],
   "source": [
    "v2.rstrip()"
   ]
  },
  {
   "cell_type": "markdown",
   "id": "f930e1a7",
   "metadata": {},
   "source": [
    "9:-Replace a string character by another character by taking your own example"
   ]
  },
  {
   "cell_type": "code",
   "execution_count": 52,
   "id": "95cf9c19",
   "metadata": {},
   "outputs": [],
   "source": [
    "v3 = \"data Science is present Booming field and data is the new oil\""
   ]
  },
  {
   "cell_type": "code",
   "execution_count": 53,
   "id": "6548ceb8",
   "metadata": {},
   "outputs": [
    {
     "data": {
      "text/plain": [
       "'data Science is present Booming field and data is the new fuel'"
      ]
     },
     "execution_count": 53,
     "metadata": {},
     "output_type": "execute_result"
    }
   ],
   "source": [
    "v3.replace(\"oil\",\"fuel\")"
   ]
  },
  {
   "cell_type": "markdown",
   "id": "29bf4dc5",
   "metadata": {},
   "source": [
    "10:-Try to give an defination of string centre function with an example"
   ]
  },
  {
   "cell_type": "markdown",
   "id": "9e3b9e15",
   "metadata": {},
   "source": [
    "Ans:-Return a centered string of length width.\n",
    "\n",
    "Padding is done using the specified fill character (default is a space)."
   ]
  },
  {
   "cell_type": "code",
   "execution_count": 67,
   "id": "463650ea",
   "metadata": {},
   "outputs": [],
   "source": [
    "v5= \"vishwanath\""
   ]
  },
  {
   "cell_type": "code",
   "execution_count": 68,
   "id": "f19352af",
   "metadata": {},
   "outputs": [
    {
     "data": {
      "text/plain": [
       "'#####vishwanath#####'"
      ]
     },
     "execution_count": 68,
     "metadata": {},
     "output_type": "execute_result"
    }
   ],
   "source": [
    "v5.center(20,'#')"
   ]
  },
  {
   "cell_type": "markdown",
   "id": "b7378db8",
   "metadata": {},
   "source": [
    "11:-Write your defnition of complier and interpretor without copy paste from internet in your own language"
   ]
  },
  {
   "cell_type": "markdown",
   "id": "b0a1e740",
   "metadata": {},
   "source": [
    "Ans:-Interpreter: An interpreter is a program that translates a programming language into a comprehensible language. – It translates only one statement of the program at a time. \n",
    "\n",
    "compiler:-compiler that translate a programming language into a comprehnsible language:- it translate whole program in one go."
   ]
  },
  {
   "cell_type": "markdown",
   "id": "d250e109",
   "metadata": {},
   "source": [
    "12:-Python is a interpreted of compiled language give a clear ans with your understanding"
   ]
  },
  {
   "cell_type": "markdown",
   "id": "495c5dc2",
   "metadata": {},
   "source": [
    "Ans:-In various books of python programming, it is mentioned that python language is interpreted. But that is half correct the python program is first compiled and then interpreted."
   ]
  },
  {
   "cell_type": "markdown",
   "id": "0cf8d83f",
   "metadata": {},
   "source": [
    "13:-Try to write a usecase of python with your understanding"
   ]
  },
  {
   "cell_type": "markdown",
   "id": "10ba6d34",
   "metadata": {},
   "source": [
    "Ans:- python is programming language but comapre to other programmming language it is easy and understandble for everyone.python have many libraries and packages these makes to  program writing is very easy."
   ]
  },
  {
   "cell_type": "code",
   "execution_count": null,
   "id": "a2840cb6",
   "metadata": {},
   "outputs": [],
   "source": []
  }
 ],
 "metadata": {
  "kernelspec": {
   "display_name": "Python 3 (ipykernel)",
   "language": "python",
   "name": "python3"
  },
  "language_info": {
   "codemirror_mode": {
    "name": "ipython",
    "version": 3
   },
   "file_extension": ".py",
   "mimetype": "text/x-python",
   "name": "python",
   "nbconvert_exporter": "python",
   "pygments_lexer": "ipython3",
   "version": "3.9.12"
  }
 },
 "nbformat": 4,
 "nbformat_minor": 5
}
